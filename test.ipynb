{
 "cells": [
  {
   "cell_type": "code",
   "execution_count": 2,
   "metadata": {},
   "outputs": [],
   "source": [
    "import pandas as pd\n",
    "import re\n",
    "from collections import Counter"
   ]
  },
  {
   "cell_type": "code",
   "execution_count": 37,
   "metadata": {},
   "outputs": [],
   "source": [
    "from datetime import datetime\n",
    "current_datetime = datetime.now()\n",
    "current_month = current_datetime.strftime(\"%B\") # Automatically computes current month if you want to do it monthly"
   ]
  },
  {
   "cell_type": "code",
   "execution_count": 4,
   "metadata": {},
   "outputs": [],
   "source": [
    "Columns = {\n",
    "    'ColumnA' : 'Date',\n",
    "    'ColumnB' :'Song',\n",
    "    'ColumnC' : 'Artist',\n",
    "   # 'ColumnD' : 'artist',\n",
    "    #'ColumnE' : 'artist',\n",
    "} \n",
    "\n",
    "Link = \"https://docs.google.com/spreadsheets/d/167HXL8LrTsxoEc_Ke5ILj0k7RJLGbzNunO_xoM_CTmA/edit?gid=0#gid=0\""
   ]
  },
  {
   "cell_type": "code",
   "execution_count": 24,
   "metadata": {},
   "outputs": [
    {
     "name": "stdout",
     "output_type": "stream",
     "text": [
      "\n",
      "\n"
     ]
    }
   ],
   "source": [
    "google_sheets_link = Link\n",
    "\n",
    "def convert_google_sheet_url(url):\n",
    "    # Regular expression to match and capture the necessary part of the URL\n",
    "    pattern = r'https://docs\\.google\\.com/spreadsheets/d/([a-zA-Z0-9-_]+)(/edit#gid=(\\d+)|/edit.*)?'\n",
    "\n",
    "    # Replace function to construct the new URL for CSV export\n",
    "    # If gid is present in the URL, it includes it in the export URL, otherwise, it's omitted\n",
    "    replacement = lambda m: f'https://docs.google.com/spreadsheets/d/{m.group(1)}/export?' + (f'gid={m.group(3)}&' if m.group(3) else '') + 'format=csv'\n",
    "\n",
    "    # Replace using regex\n",
    "    new_url = re.sub(pattern, replacement, url)\n",
    "\n",
    "    return new_url\n",
    "\n",
    "pandas_url = convert_google_sheet_url(google_sheets_link)\n",
    "\n",
    "df = pd.read_csv(pandas_url)\n",
    "\n",
    "df = pd.read_csv(pandas_url)\n",
    "artist = Columns['ColumnC']\n",
    "try:\n",
    "    counts = Counter(df[artist])\n",
    "    wrapped_artist = Columns['ColumnC']\n",
    "    wrapped_song = Columns['ColumnB']\n",
    "except (KeyError, AttributeError):\n",
    "    print(\"Please check your google spreadsheet and ensure the headers both exist and match the config.\")\n",
    "    quit()\n",
    "\n",
    "print(\"\\n\")\n",
    "#print(df)"
   ]
  },
  {
   "cell_type": "code",
   "execution_count": 43,
   "metadata": {},
   "outputs": [],
   "source": [
    "if df.Date.str == current_month:\n",
    "    print(f'{current_month}')"
   ]
  },
  {
   "cell_type": "code",
   "execution_count": 53,
   "metadata": {},
   "outputs": [
    {
     "name": "stdout",
     "output_type": "stream",
     "text": [
      "{1.25}\n"
     ]
    }
   ],
   "source": [
    "print({3*len(df[df.Date.str.contains('December')]) / 60})"
   ]
  },
  {
   "cell_type": "code",
   "execution_count": 55,
   "metadata": {},
   "outputs": [
    {
     "name": "stdout",
     "output_type": "stream",
     "text": [
      "January song number: 0 (Roughly 0.0 hours)\n",
      "February song number: 0 (Roughly 0.0 hours)\n",
      "March song number: 0 (Roughly 0.0 hours)\n",
      "April song number: 0 (Roughly 0.0 hours)\n",
      "May song number: 0 (Roughly 0.0 hours)\n",
      "June song number: 0 (Roughly 0.0 hours)\n",
      "July song number: 0 (Roughly 0.0 hours)\n",
      "August song number: 0 (Roughly 0.0 hours)\n",
      "September song number: 0 (Roughly 0.0 hours)\n",
      "October song number: 0 (Roughly 0.0 hours)\n",
      "November song number: 0 (Roughly 0.0 hours)\n",
      "December song number: 25 (Roughly 1.25 hours)\n",
      "\n",
      "\n"
     ]
    }
   ],
   "source": [
    "if df.Date.str.contains(f'{current_month}').any():\n",
    "    wrapped = (df[df.Date.str.contains(f'{current_month}')])\n",
    "    print(f\"January song number: {len(df[df.Date.str.contains('January')])} (Roughly {3*len(df[df.Date.str.contains('January')]) / 60} hours)\")\n",
    "    print(f\"February song number: {len(df[df.Date.str.contains('February')])} (Roughly {3*len(df[df.Date.str.contains('February')]) / 60} hours)\")\n",
    "    print(f\"March song number: {len(df[df.Date.str.contains('March')])} (Roughly {3*len(df[df.Date.str.contains('March')]) / 60} hours)\")\n",
    "    print(f\"April song number: {len(df[df.Date.str.contains('April')])} (Roughly {3*len(df[df.Date.str.contains('April')]) / 60} hours)\")\n",
    "    print(f\"May song number: {len(df[df.Date.str.contains('May')])} (Roughly {3*len(df[df.Date.str.contains('May')]) / 60} hours)\")\n",
    "    print(f\"June song number: {len(df[df.Date.str.contains('June')])} (Roughly {3*len(df[df.Date.str.contains('June')]) / 60} hours)\")\n",
    "    print(f\"July song number: {len(df[df.Date.str.contains('July')])} (Roughly {3*len(df[df.Date.str.contains('July')]) / 60} hours)\")\n",
    "    print(f\"August song number: {len(df[df.Date.str.contains('August')])} (Roughly {3*len(df[df.Date.str.contains('August')]) / 60} hours)\")\n",
    "    print(f\"September song number: {len(df[df.Date.str.contains('September')])} (Roughly {3*len(df[df.Date.str.contains('September')]) / 60} hours)\")\n",
    "    print(f\"October song number: {len(df[df.Date.str.contains('October')])} (Roughly {3*len(df[df.Date.str.contains('October')]) / 60} hours)\")\n",
    "    print(f\"November song number: {len(df[df.Date.str.contains('November')])} (Roughly {3*len(df[df.Date.str.contains('November')]) / 60} hours)\")\n",
    "    print(f\"December song number: {len(df[df.Date.str.contains('December')])} (Roughly {3*len(df[df.Date.str.contains('December')]) / 60} hours)\")\n",
    "\n",
    "print(\"\\n\")"
   ]
  },
  {
   "cell_type": "code",
   "execution_count": null,
   "metadata": {},
   "outputs": [],
   "source": []
  }
 ],
 "metadata": {
  "kernelspec": {
   "display_name": "Python 3",
   "language": "python",
   "name": "python3"
  },
  "language_info": {
   "codemirror_mode": {
    "name": "ipython",
    "version": 3
   },
   "file_extension": ".py",
   "mimetype": "text/x-python",
   "name": "python",
   "nbconvert_exporter": "python",
   "pygments_lexer": "ipython3",
   "version": "3.12.8"
  }
 },
 "nbformat": 4,
 "nbformat_minor": 2
}
